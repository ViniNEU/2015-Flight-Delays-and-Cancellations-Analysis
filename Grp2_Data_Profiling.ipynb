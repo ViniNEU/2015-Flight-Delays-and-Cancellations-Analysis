{
 "cells": [
  {
   "cell_type": "markdown",
   "id": "f13fe113",
   "metadata": {},
   "source": [
    "# Group 2: 2015 Flight Delays and Cancellations"
   ]
  },
  {
   "cell_type": "markdown",
   "id": "05fef805",
   "metadata": {},
   "source": [
    "This file consists code snippets for the data profiling, cleaning and harmonizing of the 2015 flight delay and cancellation dataset from Kaggle which can be found here: https://www.kaggle.com/datasets/usdot/flight-delays?select=flights.csv"
   ]
  },
  {
   "cell_type": "markdown",
   "id": "656ee662",
   "metadata": {},
   "source": [
    "# Data Profiling"
   ]
  },
  {
   "cell_type": "code",
   "execution_count": 1,
   "id": "29c9f76c",
   "metadata": {},
   "outputs": [],
   "source": [
    "import pandas as pd\n",
    "import numpy as np\n",
    "import matplotlib.pyplot as plt\n",
    "import seaborn as sns\n",
    "from sklearn.preprocessing import StandardScaler\n",
    "import matplotlib.cm as cm\n",
    "import pandas as pd\n",
    "from pandas_profiling import ProfileReport\n",
    "import operator\n",
    "\n",
    "%matplotlib inline"
   ]
  },
  {
   "cell_type": "markdown",
   "id": "22d90f1e",
   "metadata": {},
   "source": [
    "##### Reading the datasets: flights.csv, airlines.csv and airports.csv"
   ]
  },
  {
   "cell_type": "code",
   "execution_count": 2,
   "id": "4714a9b2",
   "metadata": {},
   "outputs": [],
   "source": [
    "'''setting the path'''\n",
    "\n",
    "path = \"Datasets/\""
   ]
  },
  {
   "cell_type": "code",
   "execution_count": 3,
   "id": "72f00a8d",
   "metadata": {
    "scrolled": false
   },
   "outputs": [
    {
     "name": "stderr",
     "output_type": "stream",
     "text": [
      "C:\\Users\\aishw\\AppData\\Local\\Temp\\ipykernel_3104\\1186815690.py:3: DtypeWarning: Columns (7,8) have mixed types. Specify dtype option on import or set low_memory=False.\n",
      "  flights = pd.read_csv(path + \"flights.csv\")\n"
     ]
    },
    {
     "data": {
      "text/html": [
       "<div>\n",
       "<style scoped>\n",
       "    .dataframe tbody tr th:only-of-type {\n",
       "        vertical-align: middle;\n",
       "    }\n",
       "\n",
       "    .dataframe tbody tr th {\n",
       "        vertical-align: top;\n",
       "    }\n",
       "\n",
       "    .dataframe thead th {\n",
       "        text-align: right;\n",
       "    }\n",
       "</style>\n",
       "<table border=\"1\" class=\"dataframe\">\n",
       "  <thead>\n",
       "    <tr style=\"text-align: right;\">\n",
       "      <th></th>\n",
       "      <th>YEAR</th>\n",
       "      <th>MONTH</th>\n",
       "      <th>DAY</th>\n",
       "      <th>DAY_OF_WEEK</th>\n",
       "      <th>AIRLINE</th>\n",
       "      <th>FLIGHT_NUMBER</th>\n",
       "      <th>TAIL_NUMBER</th>\n",
       "      <th>ORIGIN_AIRPORT</th>\n",
       "      <th>DESTINATION_AIRPORT</th>\n",
       "      <th>SCHEDULED_DEPARTURE</th>\n",
       "      <th>...</th>\n",
       "      <th>ARRIVAL_TIME</th>\n",
       "      <th>ARRIVAL_DELAY</th>\n",
       "      <th>DIVERTED</th>\n",
       "      <th>CANCELLED</th>\n",
       "      <th>CANCELLATION_REASON</th>\n",
       "      <th>AIR_SYSTEM_DELAY</th>\n",
       "      <th>SECURITY_DELAY</th>\n",
       "      <th>AIRLINE_DELAY</th>\n",
       "      <th>LATE_AIRCRAFT_DELAY</th>\n",
       "      <th>WEATHER_DELAY</th>\n",
       "    </tr>\n",
       "  </thead>\n",
       "  <tbody>\n",
       "    <tr>\n",
       "      <th>0</th>\n",
       "      <td>2015</td>\n",
       "      <td>1</td>\n",
       "      <td>1</td>\n",
       "      <td>4</td>\n",
       "      <td>AS</td>\n",
       "      <td>98</td>\n",
       "      <td>N407AS</td>\n",
       "      <td>ANC</td>\n",
       "      <td>SEA</td>\n",
       "      <td>5</td>\n",
       "      <td>...</td>\n",
       "      <td>408.0</td>\n",
       "      <td>-22.0</td>\n",
       "      <td>0</td>\n",
       "      <td>0</td>\n",
       "      <td>NaN</td>\n",
       "      <td>NaN</td>\n",
       "      <td>NaN</td>\n",
       "      <td>NaN</td>\n",
       "      <td>NaN</td>\n",
       "      <td>NaN</td>\n",
       "    </tr>\n",
       "    <tr>\n",
       "      <th>1</th>\n",
       "      <td>2015</td>\n",
       "      <td>1</td>\n",
       "      <td>1</td>\n",
       "      <td>4</td>\n",
       "      <td>AA</td>\n",
       "      <td>2336</td>\n",
       "      <td>N3KUAA</td>\n",
       "      <td>LAX</td>\n",
       "      <td>PBI</td>\n",
       "      <td>10</td>\n",
       "      <td>...</td>\n",
       "      <td>741.0</td>\n",
       "      <td>-9.0</td>\n",
       "      <td>0</td>\n",
       "      <td>0</td>\n",
       "      <td>NaN</td>\n",
       "      <td>NaN</td>\n",
       "      <td>NaN</td>\n",
       "      <td>NaN</td>\n",
       "      <td>NaN</td>\n",
       "      <td>NaN</td>\n",
       "    </tr>\n",
       "    <tr>\n",
       "      <th>2</th>\n",
       "      <td>2015</td>\n",
       "      <td>1</td>\n",
       "      <td>1</td>\n",
       "      <td>4</td>\n",
       "      <td>US</td>\n",
       "      <td>840</td>\n",
       "      <td>N171US</td>\n",
       "      <td>SFO</td>\n",
       "      <td>CLT</td>\n",
       "      <td>20</td>\n",
       "      <td>...</td>\n",
       "      <td>811.0</td>\n",
       "      <td>5.0</td>\n",
       "      <td>0</td>\n",
       "      <td>0</td>\n",
       "      <td>NaN</td>\n",
       "      <td>NaN</td>\n",
       "      <td>NaN</td>\n",
       "      <td>NaN</td>\n",
       "      <td>NaN</td>\n",
       "      <td>NaN</td>\n",
       "    </tr>\n",
       "  </tbody>\n",
       "</table>\n",
       "<p>3 rows × 31 columns</p>\n",
       "</div>"
      ],
      "text/plain": [
       "   YEAR  MONTH  DAY  DAY_OF_WEEK AIRLINE  FLIGHT_NUMBER TAIL_NUMBER  \\\n",
       "0  2015      1    1            4      AS             98      N407AS   \n",
       "1  2015      1    1            4      AA           2336      N3KUAA   \n",
       "2  2015      1    1            4      US            840      N171US   \n",
       "\n",
       "  ORIGIN_AIRPORT DESTINATION_AIRPORT  SCHEDULED_DEPARTURE  ...  ARRIVAL_TIME  \\\n",
       "0            ANC                 SEA                    5  ...         408.0   \n",
       "1            LAX                 PBI                   10  ...         741.0   \n",
       "2            SFO                 CLT                   20  ...         811.0   \n",
       "\n",
       "   ARRIVAL_DELAY  DIVERTED  CANCELLED  CANCELLATION_REASON  AIR_SYSTEM_DELAY  \\\n",
       "0          -22.0         0          0                  NaN               NaN   \n",
       "1           -9.0         0          0                  NaN               NaN   \n",
       "2            5.0         0          0                  NaN               NaN   \n",
       "\n",
       "   SECURITY_DELAY  AIRLINE_DELAY  LATE_AIRCRAFT_DELAY  WEATHER_DELAY  \n",
       "0             NaN            NaN                  NaN            NaN  \n",
       "1             NaN            NaN                  NaN            NaN  \n",
       "2             NaN            NaN                  NaN            NaN  \n",
       "\n",
       "[3 rows x 31 columns]"
      ]
     },
     "execution_count": 3,
     "metadata": {},
     "output_type": "execute_result"
    }
   ],
   "source": [
    "'''Reading the flights csv file'''\n",
    "\n",
    "flights = pd.read_csv(path + \"flights.csv\")\n",
    "flights.head(3)"
   ]
  },
  {
   "cell_type": "code",
   "execution_count": 4,
   "id": "0b8aa5fc",
   "metadata": {
    "scrolled": true
   },
   "outputs": [
    {
     "data": {
      "text/html": [
       "<div>\n",
       "<style scoped>\n",
       "    .dataframe tbody tr th:only-of-type {\n",
       "        vertical-align: middle;\n",
       "    }\n",
       "\n",
       "    .dataframe tbody tr th {\n",
       "        vertical-align: top;\n",
       "    }\n",
       "\n",
       "    .dataframe thead th {\n",
       "        text-align: right;\n",
       "    }\n",
       "</style>\n",
       "<table border=\"1\" class=\"dataframe\">\n",
       "  <thead>\n",
       "    <tr style=\"text-align: right;\">\n",
       "      <th></th>\n",
       "      <th>IATA_CODE</th>\n",
       "      <th>AIRLINE</th>\n",
       "    </tr>\n",
       "  </thead>\n",
       "  <tbody>\n",
       "    <tr>\n",
       "      <th>0</th>\n",
       "      <td>UA</td>\n",
       "      <td>United Air Lines Inc.</td>\n",
       "    </tr>\n",
       "    <tr>\n",
       "      <th>1</th>\n",
       "      <td>AA</td>\n",
       "      <td>American Airlines Inc.</td>\n",
       "    </tr>\n",
       "    <tr>\n",
       "      <th>2</th>\n",
       "      <td>US</td>\n",
       "      <td>US Airways Inc.</td>\n",
       "    </tr>\n",
       "  </tbody>\n",
       "</table>\n",
       "</div>"
      ],
      "text/plain": [
       "  IATA_CODE                 AIRLINE\n",
       "0        UA   United Air Lines Inc.\n",
       "1        AA  American Airlines Inc.\n",
       "2        US         US Airways Inc."
      ]
     },
     "execution_count": 4,
     "metadata": {},
     "output_type": "execute_result"
    }
   ],
   "source": [
    "'''Reading the airlines csv file'''\n",
    "\n",
    "airlines = pd.read_csv(path + \"airlines.csv\")\n",
    "airlines.head(3)"
   ]
  },
  {
   "cell_type": "code",
   "execution_count": 5,
   "id": "3a02eebe",
   "metadata": {},
   "outputs": [
    {
     "data": {
      "text/html": [
       "<div>\n",
       "<style scoped>\n",
       "    .dataframe tbody tr th:only-of-type {\n",
       "        vertical-align: middle;\n",
       "    }\n",
       "\n",
       "    .dataframe tbody tr th {\n",
       "        vertical-align: top;\n",
       "    }\n",
       "\n",
       "    .dataframe thead th {\n",
       "        text-align: right;\n",
       "    }\n",
       "</style>\n",
       "<table border=\"1\" class=\"dataframe\">\n",
       "  <thead>\n",
       "    <tr style=\"text-align: right;\">\n",
       "      <th></th>\n",
       "      <th>IATA_CODE</th>\n",
       "      <th>AIRPORT</th>\n",
       "      <th>CITY</th>\n",
       "      <th>STATE</th>\n",
       "      <th>COUNTRY</th>\n",
       "      <th>LATITUDE</th>\n",
       "      <th>LONGITUDE</th>\n",
       "    </tr>\n",
       "  </thead>\n",
       "  <tbody>\n",
       "    <tr>\n",
       "      <th>0</th>\n",
       "      <td>ABE</td>\n",
       "      <td>Lehigh Valley International Airport</td>\n",
       "      <td>Allentown</td>\n",
       "      <td>PA</td>\n",
       "      <td>USA</td>\n",
       "      <td>40.65236</td>\n",
       "      <td>-75.44040</td>\n",
       "    </tr>\n",
       "    <tr>\n",
       "      <th>1</th>\n",
       "      <td>ABI</td>\n",
       "      <td>Abilene Regional Airport</td>\n",
       "      <td>Abilene</td>\n",
       "      <td>TX</td>\n",
       "      <td>USA</td>\n",
       "      <td>32.41132</td>\n",
       "      <td>-99.68190</td>\n",
       "    </tr>\n",
       "    <tr>\n",
       "      <th>2</th>\n",
       "      <td>ABQ</td>\n",
       "      <td>Albuquerque International Sunport</td>\n",
       "      <td>Albuquerque</td>\n",
       "      <td>NM</td>\n",
       "      <td>USA</td>\n",
       "      <td>35.04022</td>\n",
       "      <td>-106.60919</td>\n",
       "    </tr>\n",
       "  </tbody>\n",
       "</table>\n",
       "</div>"
      ],
      "text/plain": [
       "  IATA_CODE                              AIRPORT         CITY STATE COUNTRY  \\\n",
       "0       ABE  Lehigh Valley International Airport    Allentown    PA     USA   \n",
       "1       ABI             Abilene Regional Airport      Abilene    TX     USA   \n",
       "2       ABQ    Albuquerque International Sunport  Albuquerque    NM     USA   \n",
       "\n",
       "   LATITUDE  LONGITUDE  \n",
       "0  40.65236  -75.44040  \n",
       "1  32.41132  -99.68190  \n",
       "2  35.04022 -106.60919  "
      ]
     },
     "execution_count": 5,
     "metadata": {},
     "output_type": "execute_result"
    }
   ],
   "source": [
    "'''Reading the airports csv file'''\n",
    "\n",
    "airports = pd.read_csv(path + \"airports.csv\")\n",
    "airports.head(3)"
   ]
  },
  {
   "cell_type": "markdown",
   "id": "9c061bd1",
   "metadata": {},
   "source": [
    "##### Merging the 3 csv's together using left join on IATA code"
   ]
  },
  {
   "cell_type": "code",
   "execution_count": 6,
   "id": "cdf8b6f7",
   "metadata": {},
   "outputs": [
    {
     "data": {
      "text/html": [
       "<div>\n",
       "<style scoped>\n",
       "    .dataframe tbody tr th:only-of-type {\n",
       "        vertical-align: middle;\n",
       "    }\n",
       "\n",
       "    .dataframe tbody tr th {\n",
       "        vertical-align: top;\n",
       "    }\n",
       "\n",
       "    .dataframe thead th {\n",
       "        text-align: right;\n",
       "    }\n",
       "</style>\n",
       "<table border=\"1\" class=\"dataframe\">\n",
       "  <thead>\n",
       "    <tr style=\"text-align: right;\">\n",
       "      <th></th>\n",
       "      <th>YEAR</th>\n",
       "      <th>MONTH</th>\n",
       "      <th>DAY</th>\n",
       "      <th>DAY_OF_WEEK</th>\n",
       "      <th>IATA_CODE</th>\n",
       "      <th>FLIGHT_NUMBER</th>\n",
       "      <th>TAIL_NUMBER</th>\n",
       "      <th>ORIGIN_AIRPORT_CODE</th>\n",
       "      <th>DESTINATION_AIRPORT_CODE</th>\n",
       "      <th>SCHEDULED_DEPARTURE</th>\n",
       "      <th>...</th>\n",
       "      <th>AIR_SYSTEM_DELAY</th>\n",
       "      <th>SECURITY_DELAY</th>\n",
       "      <th>AIRLINE_DELAY</th>\n",
       "      <th>LATE_AIRCRAFT_DELAY</th>\n",
       "      <th>WEATHER_DELAY</th>\n",
       "      <th>AIRLINE</th>\n",
       "      <th>ORIGIN_AIRPORT</th>\n",
       "      <th>ORIGIN_CITY</th>\n",
       "      <th>DESTINATION_AIRPORT</th>\n",
       "      <th>DESTINATION_CITY</th>\n",
       "    </tr>\n",
       "  </thead>\n",
       "  <tbody>\n",
       "    <tr>\n",
       "      <th>0</th>\n",
       "      <td>2015</td>\n",
       "      <td>1</td>\n",
       "      <td>1</td>\n",
       "      <td>4</td>\n",
       "      <td>AS</td>\n",
       "      <td>98</td>\n",
       "      <td>N407AS</td>\n",
       "      <td>ANC</td>\n",
       "      <td>SEA</td>\n",
       "      <td>5</td>\n",
       "      <td>...</td>\n",
       "      <td>NaN</td>\n",
       "      <td>NaN</td>\n",
       "      <td>NaN</td>\n",
       "      <td>NaN</td>\n",
       "      <td>NaN</td>\n",
       "      <td>Alaska Airlines Inc.</td>\n",
       "      <td>Ted Stevens Anchorage International Airport</td>\n",
       "      <td>Anchorage</td>\n",
       "      <td>Seattle-Tacoma International Airport</td>\n",
       "      <td>Seattle</td>\n",
       "    </tr>\n",
       "    <tr>\n",
       "      <th>1</th>\n",
       "      <td>2015</td>\n",
       "      <td>1</td>\n",
       "      <td>1</td>\n",
       "      <td>4</td>\n",
       "      <td>AA</td>\n",
       "      <td>2336</td>\n",
       "      <td>N3KUAA</td>\n",
       "      <td>LAX</td>\n",
       "      <td>PBI</td>\n",
       "      <td>10</td>\n",
       "      <td>...</td>\n",
       "      <td>NaN</td>\n",
       "      <td>NaN</td>\n",
       "      <td>NaN</td>\n",
       "      <td>NaN</td>\n",
       "      <td>NaN</td>\n",
       "      <td>American Airlines Inc.</td>\n",
       "      <td>Los Angeles International Airport</td>\n",
       "      <td>Los Angeles</td>\n",
       "      <td>Palm Beach International Airport</td>\n",
       "      <td>West Palm Beach</td>\n",
       "    </tr>\n",
       "    <tr>\n",
       "      <th>2</th>\n",
       "      <td>2015</td>\n",
       "      <td>1</td>\n",
       "      <td>1</td>\n",
       "      <td>4</td>\n",
       "      <td>US</td>\n",
       "      <td>840</td>\n",
       "      <td>N171US</td>\n",
       "      <td>SFO</td>\n",
       "      <td>CLT</td>\n",
       "      <td>20</td>\n",
       "      <td>...</td>\n",
       "      <td>NaN</td>\n",
       "      <td>NaN</td>\n",
       "      <td>NaN</td>\n",
       "      <td>NaN</td>\n",
       "      <td>NaN</td>\n",
       "      <td>US Airways Inc.</td>\n",
       "      <td>San Francisco International Airport</td>\n",
       "      <td>San Francisco</td>\n",
       "      <td>Charlotte Douglas International Airport</td>\n",
       "      <td>Charlotte</td>\n",
       "    </tr>\n",
       "  </tbody>\n",
       "</table>\n",
       "<p>3 rows × 36 columns</p>\n",
       "</div>"
      ],
      "text/plain": [
       "   YEAR  MONTH  DAY  DAY_OF_WEEK IATA_CODE  FLIGHT_NUMBER TAIL_NUMBER  \\\n",
       "0  2015      1    1            4        AS             98      N407AS   \n",
       "1  2015      1    1            4        AA           2336      N3KUAA   \n",
       "2  2015      1    1            4        US            840      N171US   \n",
       "\n",
       "  ORIGIN_AIRPORT_CODE DESTINATION_AIRPORT_CODE  SCHEDULED_DEPARTURE  ...  \\\n",
       "0                 ANC                      SEA                    5  ...   \n",
       "1                 LAX                      PBI                   10  ...   \n",
       "2                 SFO                      CLT                   20  ...   \n",
       "\n",
       "   AIR_SYSTEM_DELAY  SECURITY_DELAY  AIRLINE_DELAY  LATE_AIRCRAFT_DELAY  \\\n",
       "0               NaN             NaN            NaN                  NaN   \n",
       "1               NaN             NaN            NaN                  NaN   \n",
       "2               NaN             NaN            NaN                  NaN   \n",
       "\n",
       "   WEATHER_DELAY                 AIRLINE  \\\n",
       "0            NaN    Alaska Airlines Inc.   \n",
       "1            NaN  American Airlines Inc.   \n",
       "2            NaN         US Airways Inc.   \n",
       "\n",
       "                                ORIGIN_AIRPORT    ORIGIN_CITY  \\\n",
       "0  Ted Stevens Anchorage International Airport      Anchorage   \n",
       "1            Los Angeles International Airport    Los Angeles   \n",
       "2          San Francisco International Airport  San Francisco   \n",
       "\n",
       "                       DESTINATION_AIRPORT  DESTINATION_CITY  \n",
       "0     Seattle-Tacoma International Airport           Seattle  \n",
       "1         Palm Beach International Airport   West Palm Beach  \n",
       "2  Charlotte Douglas International Airport         Charlotte  \n",
       "\n",
       "[3 rows x 36 columns]"
      ]
     },
     "execution_count": 6,
     "metadata": {},
     "output_type": "execute_result"
    }
   ],
   "source": [
    "flights.rename(columns={'AIRLINE': 'IATA_CODE', 'ORIGIN_AIRPORT':'ORIGIN_AIRPORT_CODE',\n",
    "                        'DESTINATION_AIRPORT':'DESTINATION_AIRPORT_CODE'}, inplace=True)\n",
    "\n",
    "origin_airports = airports.rename(columns={'IATA_CODE':'ORIGIN_AIRPORT_CODE','AIRPORT': 'ORIGIN_AIRPORT',\n",
    "                                           'CITY':'ORIGIN_CITY'})\n",
    "destination_airports = airports.rename(columns={'IATA_CODE':'DESTINATION_AIRPORT_CODE','AIRPORT': 'DESTINATION_AIRPORT',\n",
    "                                                'CITY':'DESTINATION_CITY'})\n",
    "# Merge datasets together\n",
    "flights2 = pd.merge(flights, airlines,  how='left', on=\"IATA_CODE\")\n",
    "flights3 = pd.merge(flights2, origin_airports[['ORIGIN_AIRPORT_CODE','ORIGIN_AIRPORT',\n",
    " 'ORIGIN_CITY']], how= 'left', left_on='ORIGIN_AIRPORT_CODE', right_on='ORIGIN_AIRPORT_CODE')\n",
    "flights_df = pd.merge(flights3, destination_airports[['DESTINATION_AIRPORT_CODE','DESTINATION_AIRPORT',\n",
    " 'DESTINATION_CITY']], how= 'left', left_on='DESTINATION_AIRPORT_CODE', right_on='DESTINATION_AIRPORT_CODE')\n",
    "\n",
    "flights_df.head(3)"
   ]
  },
  {
   "cell_type": "markdown",
   "id": "1bb670dd",
   "metadata": {},
   "source": [
    "# Data Cleansing"
   ]
  },
  {
   "cell_type": "code",
   "execution_count": 7,
   "id": "204b2504",
   "metadata": {},
   "outputs": [],
   "source": [
    "'''Adding date column using the year, month and day columns'''\n",
    "\n",
    "flights_df['DATE'] = pd.to_datetime(flights_df[['YEAR','MONTH', 'DAY']])"
   ]
  },
  {
   "cell_type": "code",
   "execution_count": 8,
   "id": "f050864d",
   "metadata": {},
   "outputs": [],
   "source": [
    "'''Adding new column Quarter for data visualization purpose'''\n",
    "\n",
    "flights_df['Quarter'] = pd.PeriodIndex(flights_df.DATE, freq='Q')"
   ]
  },
  {
   "cell_type": "code",
   "execution_count": 9,
   "id": "b8e7adbf",
   "metadata": {
    "scrolled": true
   },
   "outputs": [],
   "source": [
    "flights_df.drop('YEAR', axis=1, inplace=True)\n",
    "flights_df.drop('MONTH', axis=1, inplace=True)\n",
    "flights_df.drop('DAY', axis=1, inplace=True)\n",
    "flights_df.drop('DAY_OF_WEEK', axis=1, inplace=True)"
   ]
  },
  {
   "cell_type": "code",
   "execution_count": 10,
   "id": "3f11a79a",
   "metadata": {},
   "outputs": [],
   "source": [
    "flights_df.drop('ORIGIN_AIRPORT_CODE', axis=1, inplace=True)\n",
    "flights_df.drop('DESTINATION_AIRPORT_CODE', axis=1, inplace=True)"
   ]
  },
  {
   "cell_type": "code",
   "execution_count": 11,
   "id": "6331a3a5",
   "metadata": {},
   "outputs": [],
   "source": [
    "#prof = ProfileReport(flights_df, minimal=True)\n",
    "#prof.to_file(output_file='output.html')\n",
    "\n",
    "#low_memory=False"
   ]
  },
  {
   "cell_type": "code",
   "execution_count": 12,
   "id": "2453db15",
   "metadata": {},
   "outputs": [
    {
     "name": "stdout",
     "output_type": "stream",
     "text": [
      "<class 'pandas.core.frame.DataFrame'>\n",
      "Int64Index: 5819079 entries, 0 to 5819078\n",
      "Data columns (total 32 columns):\n",
      " #   Column               Dtype         \n",
      "---  ------               -----         \n",
      " 0   IATA_CODE            object        \n",
      " 1   FLIGHT_NUMBER        int64         \n",
      " 2   TAIL_NUMBER          object        \n",
      " 3   SCHEDULED_DEPARTURE  int64         \n",
      " 4   DEPARTURE_TIME       float64       \n",
      " 5   DEPARTURE_DELAY      float64       \n",
      " 6   TAXI_OUT             float64       \n",
      " 7   WHEELS_OFF           float64       \n",
      " 8   SCHEDULED_TIME       float64       \n",
      " 9   ELAPSED_TIME         float64       \n",
      " 10  AIR_TIME             float64       \n",
      " 11  DISTANCE             int64         \n",
      " 12  WHEELS_ON            float64       \n",
      " 13  TAXI_IN              float64       \n",
      " 14  SCHEDULED_ARRIVAL    int64         \n",
      " 15  ARRIVAL_TIME         float64       \n",
      " 16  ARRIVAL_DELAY        float64       \n",
      " 17  DIVERTED             int64         \n",
      " 18  CANCELLED            int64         \n",
      " 19  CANCELLATION_REASON  object        \n",
      " 20  AIR_SYSTEM_DELAY     float64       \n",
      " 21  SECURITY_DELAY       float64       \n",
      " 22  AIRLINE_DELAY        float64       \n",
      " 23  LATE_AIRCRAFT_DELAY  float64       \n",
      " 24  WEATHER_DELAY        float64       \n",
      " 25  AIRLINE              object        \n",
      " 26  ORIGIN_AIRPORT       object        \n",
      " 27  ORIGIN_CITY          object        \n",
      " 28  DESTINATION_AIRPORT  object        \n",
      " 29  DESTINATION_CITY     object        \n",
      " 30  DATE                 datetime64[ns]\n",
      " 31  Quarter              period[Q-DEC] \n",
      "dtypes: datetime64[ns](1), float64(16), int64(6), object(8), period[Q-DEC](1)\n",
      "memory usage: 1.4+ GB\n"
     ]
    }
   ],
   "source": [
    "flights_df.info()"
   ]
  },
  {
   "cell_type": "code",
   "execution_count": 13,
   "id": "1652c607",
   "metadata": {
    "scrolled": false
   },
   "outputs": [
    {
     "data": {
      "text/plain": [
       "IATA_CODE                14\n",
       "FLIGHT_NUMBER          6952\n",
       "TAIL_NUMBER            4897\n",
       "SCHEDULED_DEPARTURE    1321\n",
       "DEPARTURE_TIME         1440\n",
       "DEPARTURE_DELAY        1217\n",
       "TAXI_OUT                184\n",
       "WHEELS_OFF             1440\n",
       "SCHEDULED_TIME          550\n",
       "ELAPSED_TIME            712\n",
       "AIR_TIME                675\n",
       "DISTANCE               1363\n",
       "WHEELS_ON              1440\n",
       "TAXI_IN                 185\n",
       "SCHEDULED_ARRIVAL      1435\n",
       "ARRIVAL_TIME           1440\n",
       "ARRIVAL_DELAY          1240\n",
       "DIVERTED                  2\n",
       "CANCELLED                 2\n",
       "CANCELLATION_REASON       4\n",
       "AIR_SYSTEM_DELAY        570\n",
       "SECURITY_DELAY          154\n",
       "AIRLINE_DELAY          1067\n",
       "LATE_AIRCRAFT_DELAY     695\n",
       "WEATHER_DELAY           632\n",
       "AIRLINE                  14\n",
       "ORIGIN_AIRPORT          322\n",
       "ORIGIN_CITY             308\n",
       "DESTINATION_AIRPORT     322\n",
       "DESTINATION_CITY        308\n",
       "DATE                    365\n",
       "Quarter                   4\n",
       "dtype: int64"
      ]
     },
     "execution_count": 13,
     "metadata": {},
     "output_type": "execute_result"
    }
   ],
   "source": [
    "'''checking the unique values of all the elements on the merged dataset'''\n",
    "\n",
    "flights_df.nunique()"
   ]
  },
  {
   "cell_type": "markdown",
   "id": "40943392",
   "metadata": {},
   "source": [
    "##### Calculating the percentage null values for each column or feature"
   ]
  },
  {
   "cell_type": "code",
   "execution_count": 14,
   "id": "e9f74166",
   "metadata": {
    "scrolled": true
   },
   "outputs": [
    {
     "data": {
      "text/plain": [
       "<AxesSubplot:xlabel='Percent missing', ylabel='Feature'>"
      ]
     },
     "execution_count": 14,
     "metadata": {},
     "output_type": "execute_result"
    },
    {
     "data": {
      "image/png": "[encoded data removed]",
      "text/plain": [
       "<Figure size 576x720 with 1 Axes>"
      ]
     },
     "metadata": {
      "needs_background": "light"
     },
     "output_type": "display_data"
    }
   ],
   "source": [
    "null_vals = flights_df.isnull().sum()/len(flights_df)*100\n",
    "null_vals = pd.DataFrame(null_vals)\n",
    "null_vals.reset_index(inplace = True)\n",
    "null_vals.columns = [\"Feature\",\"Percent missing\"]\n",
    "plt.figure(figsize = (8,10))\n",
    "plt.xticks(rotation=45)\n",
    "sns.barplot(x = \"Percent missing\",y =\"Feature\",data = null_vals,orient = \"h\")"
   ]
  },
  {
   "cell_type": "code",
   "execution_count": 15,
   "id": "fdbbedee",
   "metadata": {},
   "outputs": [
    {
     "name": "stdout",
     "output_type": "stream",
     "text": [
      "(5819079, 32)\n"
     ]
    },
    {
     "data": {
      "text/html": [
       "<div>\n",
       "<style scoped>\n",
       "    .dataframe tbody tr th:only-of-type {\n",
       "        vertical-align: middle;\n",
       "    }\n",
       "\n",
       "    .dataframe tbody tr th {\n",
       "        vertical-align: top;\n",
       "    }\n",
       "\n",
       "    .dataframe thead th {\n",
       "        text-align: right;\n",
       "    }\n",
       "</style>\n",
       "<table border=\"1\" class=\"dataframe\">\n",
       "  <thead>\n",
       "    <tr style=\"text-align: right;\">\n",
       "      <th></th>\n",
       "      <th>IATA_CODE</th>\n",
       "      <th>FLIGHT_NUMBER</th>\n",
       "      <th>TAIL_NUMBER</th>\n",
       "      <th>SCHEDULED_DEPARTURE</th>\n",
       "      <th>DEPARTURE_TIME</th>\n",
       "      <th>DEPARTURE_DELAY</th>\n",
       "      <th>TAXI_OUT</th>\n",
       "      <th>WHEELS_OFF</th>\n",
       "      <th>SCHEDULED_TIME</th>\n",
       "      <th>ELAPSED_TIME</th>\n",
       "      <th>...</th>\n",
       "      <th>AIRLINE_DELAY</th>\n",
       "      <th>LATE_AIRCRAFT_DELAY</th>\n",
       "      <th>WEATHER_DELAY</th>\n",
       "      <th>AIRLINE</th>\n",
       "      <th>ORIGIN_AIRPORT</th>\n",
       "      <th>ORIGIN_CITY</th>\n",
       "      <th>DESTINATION_AIRPORT</th>\n",
       "      <th>DESTINATION_CITY</th>\n",
       "      <th>DATE</th>\n",
       "      <th>Quarter</th>\n",
       "    </tr>\n",
       "  </thead>\n",
       "  <tbody>\n",
       "    <tr>\n",
       "      <th>0</th>\n",
       "      <td>AS</td>\n",
       "      <td>98</td>\n",
       "      <td>N407AS</td>\n",
       "      <td>5</td>\n",
       "      <td>2354.0</td>\n",
       "      <td>-11.0</td>\n",
       "      <td>21.0</td>\n",
       "      <td>15.0</td>\n",
       "      <td>205.0</td>\n",
       "      <td>194.0</td>\n",
       "      <td>...</td>\n",
       "      <td>NaN</td>\n",
       "      <td>NaN</td>\n",
       "      <td>NaN</td>\n",
       "      <td>Alaska Airlines Inc.</td>\n",
       "      <td>Ted Stevens Anchorage International Airport</td>\n",
       "      <td>Anchorage</td>\n",
       "      <td>Seattle-Tacoma International Airport</td>\n",
       "      <td>Seattle</td>\n",
       "      <td>2015-01-01</td>\n",
       "      <td>2015Q1</td>\n",
       "    </tr>\n",
       "    <tr>\n",
       "      <th>1</th>\n",
       "      <td>AA</td>\n",
       "      <td>2336</td>\n",
       "      <td>N3KUAA</td>\n",
       "      <td>10</td>\n",
       "      <td>2.0</td>\n",
       "      <td>-8.0</td>\n",
       "      <td>12.0</td>\n",
       "      <td>14.0</td>\n",
       "      <td>280.0</td>\n",
       "      <td>279.0</td>\n",
       "      <td>...</td>\n",
       "      <td>NaN</td>\n",
       "      <td>NaN</td>\n",
       "      <td>NaN</td>\n",
       "      <td>American Airlines Inc.</td>\n",
       "      <td>Los Angeles International Airport</td>\n",
       "      <td>Los Angeles</td>\n",
       "      <td>Palm Beach International Airport</td>\n",
       "      <td>West Palm Beach</td>\n",
       "      <td>2015-01-01</td>\n",
       "      <td>2015Q1</td>\n",
       "    </tr>\n",
       "  </tbody>\n",
       "</table>\n",
       "<p>2 rows × 32 columns</p>\n",
       "</div>"
      ],
      "text/plain": [
       "  IATA_CODE  FLIGHT_NUMBER TAIL_NUMBER  SCHEDULED_DEPARTURE  DEPARTURE_TIME  \\\n",
       "0        AS             98      N407AS                    5          2354.0   \n",
       "1        AA           2336      N3KUAA                   10             2.0   \n",
       "\n",
       "   DEPARTURE_DELAY  TAXI_OUT  WHEELS_OFF  SCHEDULED_TIME  ELAPSED_TIME  ...  \\\n",
       "0            -11.0      21.0        15.0           205.0         194.0  ...   \n",
       "1             -8.0      12.0        14.0           280.0         279.0  ...   \n",
       "\n",
       "   AIRLINE_DELAY  LATE_AIRCRAFT_DELAY  WEATHER_DELAY                 AIRLINE  \\\n",
       "0            NaN                  NaN            NaN    Alaska Airlines Inc.   \n",
       "1            NaN                  NaN            NaN  American Airlines Inc.   \n",
       "\n",
       "                                ORIGIN_AIRPORT  ORIGIN_CITY  \\\n",
       "0  Ted Stevens Anchorage International Airport    Anchorage   \n",
       "1            Los Angeles International Airport  Los Angeles   \n",
       "\n",
       "                    DESTINATION_AIRPORT  DESTINATION_CITY       DATE Quarter  \n",
       "0  Seattle-Tacoma International Airport           Seattle 2015-01-01  2015Q1  \n",
       "1      Palm Beach International Airport   West Palm Beach 2015-01-01  2015Q1  \n",
       "\n",
       "[2 rows x 32 columns]"
      ]
     },
     "execution_count": 15,
     "metadata": {},
     "output_type": "execute_result"
    }
   ],
   "source": [
    "'''Drop duplicated rows'''\n",
    "\n",
    "flights_data1 = flights_df.drop_duplicates()\n",
    "print(flights_data1.shape)\n",
    "flights_data1.head(2)"
   ]
  },
  {
   "cell_type": "markdown",
   "id": "6dad5ced",
   "metadata": {},
   "source": [
    "##### Generating a simplified profiling report on the merged dataset"
   ]
  },
  {
   "cell_type": "code",
   "execution_count": 16,
   "id": "1e226b39",
   "metadata": {},
   "outputs": [],
   "source": [
    "#replace null values with 'NaN' for all elements\n",
    "\n",
    "flights_data1['TAIL_NUMBER'] = flights_data1['TAIL_NUMBER'].fillna('NaN')\n",
    "flights_data1['TAXI_OUT'] = flights_data1['TAXI_OUT'].fillna('NaN')\n",
    "flights_data1['WHEELS_OFF'] = flights_data1['WHEELS_OFF'].fillna('NaN')\n",
    "flights_data1['SCHEDULED_TIME'] = flights_data1['SCHEDULED_TIME'].fillna('NaN')\n",
    "flights_data1['DEPARTURE_TIME'] = flights_data1['DEPARTURE_TIME'].fillna('NaN')\n",
    "flights_data1['TAXI_OUT'] = flights_data1['TAXI_OUT'].fillna('NaN')\n",
    "flights_data1['WHEELS_OFF'] = flights_data1['WHEELS_OFF'].fillna('NaN')\n",
    "flights_data1['AIRLINE_DELAY'] = flights_data1['AIRLINE_DELAY'].fillna('NaN')\n",
    "flights_data1['AIR_SYSTEM_DELAY'] = flights_data1['AIR_SYSTEM_DELAY'].fillna('NaN')\n",
    "flights_data1['SECURITY_DELAY'] = flights_data1['SECURITY_DELAY'].fillna('NaN')\n",
    "flights_data1['LATE_AIRCRAFT_DELAY'] = flights_data1['LATE_AIRCRAFT_DELAY'].fillna('NaN')\n",
    "flights_data1['WEATHER_DELAY'] = flights_data1['WEATHER_DELAY'].fillna('NaN')\n",
    "flights_data1['ELAPSED_TIME'] = flights_data1['ELAPSED_TIME'].fillna('NaN')\n",
    "flights_data1['WHEELS_ON'] = flights_data1['WHEELS_ON'].fillna('NaN')\n",
    "flights_data1['TAXI_IN'] = flights_data1['TAXI_IN'].fillna('NaN')\n",
    "flights_data1['ARRIVAL_TIME'] = flights_data1['ARRIVAL_TIME'].fillna('NaN')\n",
    "flights_data1['DEPARTURE_DELAY'] = flights_data1['DEPARTURE_DELAY'].fillna('NaN')\n",
    "flights_data1['AIR_TIME'] = flights_data1['AIR_TIME'].fillna('NaN')\n",
    "flights_data1['CANCELLATION_REASON'].fillna('Unknown', inplace=True)"
   ]
  },
  {
   "cell_type": "code",
   "execution_count": 17,
   "id": "da17ef33",
   "metadata": {},
   "outputs": [
    {
     "name": "stdout",
     "output_type": "stream",
     "text": [
      "<class 'pandas.core.frame.DataFrame'>\n",
      "Int64Index: 5819079 entries, 0 to 5819078\n",
      "Data columns (total 32 columns):\n",
      " #   Column               Dtype         \n",
      "---  ------               -----         \n",
      " 0   IATA_CODE            object        \n",
      " 1   FLIGHT_NUMBER        int64         \n",
      " 2   TAIL_NUMBER          object        \n",
      " 3   SCHEDULED_DEPARTURE  int64         \n",
      " 4   DEPARTURE_TIME       object        \n",
      " 5   DEPARTURE_DELAY      object        \n",
      " 6   TAXI_OUT             object        \n",
      " 7   WHEELS_OFF           object        \n",
      " 8   SCHEDULED_TIME       object        \n",
      " 9   ELAPSED_TIME         object        \n",
      " 10  AIR_TIME             object        \n",
      " 11  DISTANCE             int64         \n",
      " 12  WHEELS_ON            object        \n",
      " 13  TAXI_IN              object        \n",
      " 14  SCHEDULED_ARRIVAL    int64         \n",
      " 15  ARRIVAL_TIME         object        \n",
      " 16  ARRIVAL_DELAY        float64       \n",
      " 17  DIVERTED             int64         \n",
      " 18  CANCELLED            int64         \n",
      " 19  CANCELLATION_REASON  object        \n",
      " 20  AIR_SYSTEM_DELAY     object        \n",
      " 21  SECURITY_DELAY       object        \n",
      " 22  AIRLINE_DELAY        object        \n",
      " 23  LATE_AIRCRAFT_DELAY  object        \n",
      " 24  WEATHER_DELAY        object        \n",
      " 25  AIRLINE              object        \n",
      " 26  ORIGIN_AIRPORT       object        \n",
      " 27  ORIGIN_CITY          object        \n",
      " 28  DESTINATION_AIRPORT  object        \n",
      " 29  DESTINATION_CITY     object        \n",
      " 30  DATE                 datetime64[ns]\n",
      " 31  Quarter              period[Q-DEC] \n",
      "dtypes: datetime64[ns](1), float64(1), int64(6), object(23), period[Q-DEC](1)\n",
      "memory usage: 1.4+ GB\n"
     ]
    }
   ],
   "source": [
    "flights_data1.info()"
   ]
  },
  {
   "cell_type": "markdown",
   "id": "90d18ea7",
   "metadata": {},
   "source": [
    "##### Checking the null values"
   ]
  },
  {
   "cell_type": "code",
   "execution_count": 18,
   "id": "a28a2d99",
   "metadata": {},
   "outputs": [
    {
     "data": {
      "text/plain": [
       "<AxesSubplot:xlabel='Percent missing', ylabel='Feature'>"
      ]
     },
     "execution_count": 18,
     "metadata": {},
     "output_type": "execute_result"
    },
    {
     "data": {
      "image/png": "[encoded data removed]",
      "text/plain": [
       "<Figure size 576x720 with 1 Axes>"
      ]
     },
     "metadata": {
      "needs_background": "light"
     },
     "output_type": "display_data"
    }
   ],
   "source": [
    "null_vals = flights_data1.isnull().sum()/len(flights_data1)*100\n",
    "null_vals = pd.DataFrame(null_vals)\n",
    "null_vals.reset_index(inplace = True)\n",
    "null_vals.columns = [\"Feature\",\"Percent missing\"]\n",
    "plt.figure(figsize = (8,10))\n",
    "plt.xticks(rotation=45)\n",
    "sns.barplot(x = \"Percent missing\",y =\"Feature\",data = null_vals,orient = \"h\")"
   ]
  },
  {
   "cell_type": "code",
   "execution_count": 19,
   "id": "23ebd9f5",
   "metadata": {},
   "outputs": [
    {
     "data": {
      "text/html": [
       "<div>\n",
       "<style scoped>\n",
       "    .dataframe tbody tr th:only-of-type {\n",
       "        vertical-align: middle;\n",
       "    }\n",
       "\n",
       "    .dataframe tbody tr th {\n",
       "        vertical-align: top;\n",
       "    }\n",
       "\n",
       "    .dataframe thead th {\n",
       "        text-align: right;\n",
       "    }\n",
       "</style>\n",
       "<table border=\"1\" class=\"dataframe\">\n",
       "  <thead>\n",
       "    <tr style=\"text-align: right;\">\n",
       "      <th></th>\n",
       "      <th>FLIGHT_NUMBER</th>\n",
       "      <th>SCHEDULED_DEPARTURE</th>\n",
       "      <th>DISTANCE</th>\n",
       "      <th>SCHEDULED_ARRIVAL</th>\n",
       "      <th>ARRIVAL_DELAY</th>\n",
       "      <th>DIVERTED</th>\n",
       "      <th>CANCELLED</th>\n",
       "    </tr>\n",
       "  </thead>\n",
       "  <tbody>\n",
       "    <tr>\n",
       "      <th>count</th>\n",
       "      <td>5.819079e+06</td>\n",
       "      <td>5.819079e+06</td>\n",
       "      <td>5.819079e+06</td>\n",
       "      <td>5.819079e+06</td>\n",
       "      <td>5.714008e+06</td>\n",
       "      <td>5.819079e+06</td>\n",
       "      <td>5.819079e+06</td>\n",
       "    </tr>\n",
       "    <tr>\n",
       "      <th>mean</th>\n",
       "      <td>2.173093e+03</td>\n",
       "      <td>1.329602e+03</td>\n",
       "      <td>8.223565e+02</td>\n",
       "      <td>1.493808e+03</td>\n",
       "      <td>4.407057e+00</td>\n",
       "      <td>2.609863e-03</td>\n",
       "      <td>1.544643e-02</td>\n",
       "    </tr>\n",
       "    <tr>\n",
       "      <th>std</th>\n",
       "      <td>1.757064e+03</td>\n",
       "      <td>4.837518e+02</td>\n",
       "      <td>6.077843e+02</td>\n",
       "      <td>5.071647e+02</td>\n",
       "      <td>3.927130e+01</td>\n",
       "      <td>5.102012e-02</td>\n",
       "      <td>1.233201e-01</td>\n",
       "    </tr>\n",
       "    <tr>\n",
       "      <th>min</th>\n",
       "      <td>1.000000e+00</td>\n",
       "      <td>1.000000e+00</td>\n",
       "      <td>2.100000e+01</td>\n",
       "      <td>1.000000e+00</td>\n",
       "      <td>-8.700000e+01</td>\n",
       "      <td>0.000000e+00</td>\n",
       "      <td>0.000000e+00</td>\n",
       "    </tr>\n",
       "    <tr>\n",
       "      <th>25%</th>\n",
       "      <td>7.300000e+02</td>\n",
       "      <td>9.170000e+02</td>\n",
       "      <td>3.730000e+02</td>\n",
       "      <td>1.110000e+03</td>\n",
       "      <td>-1.300000e+01</td>\n",
       "      <td>0.000000e+00</td>\n",
       "      <td>0.000000e+00</td>\n",
       "    </tr>\n",
       "    <tr>\n",
       "      <th>50%</th>\n",
       "      <td>1.690000e+03</td>\n",
       "      <td>1.325000e+03</td>\n",
       "      <td>6.470000e+02</td>\n",
       "      <td>1.520000e+03</td>\n",
       "      <td>-5.000000e+00</td>\n",
       "      <td>0.000000e+00</td>\n",
       "      <td>0.000000e+00</td>\n",
       "    </tr>\n",
       "    <tr>\n",
       "      <th>75%</th>\n",
       "      <td>3.230000e+03</td>\n",
       "      <td>1.730000e+03</td>\n",
       "      <td>1.062000e+03</td>\n",
       "      <td>1.918000e+03</td>\n",
       "      <td>8.000000e+00</td>\n",
       "      <td>0.000000e+00</td>\n",
       "      <td>0.000000e+00</td>\n",
       "    </tr>\n",
       "    <tr>\n",
       "      <th>max</th>\n",
       "      <td>9.855000e+03</td>\n",
       "      <td>2.359000e+03</td>\n",
       "      <td>4.983000e+03</td>\n",
       "      <td>2.400000e+03</td>\n",
       "      <td>1.971000e+03</td>\n",
       "      <td>1.000000e+00</td>\n",
       "      <td>1.000000e+00</td>\n",
       "    </tr>\n",
       "  </tbody>\n",
       "</table>\n",
       "</div>"
      ],
      "text/plain": [
       "       FLIGHT_NUMBER  SCHEDULED_DEPARTURE      DISTANCE  SCHEDULED_ARRIVAL  \\\n",
       "count   5.819079e+06         5.819079e+06  5.819079e+06       5.819079e+06   \n",
       "mean    2.173093e+03         1.329602e+03  8.223565e+02       1.493808e+03   \n",
       "std     1.757064e+03         4.837518e+02  6.077843e+02       5.071647e+02   \n",
       "min     1.000000e+00         1.000000e+00  2.100000e+01       1.000000e+00   \n",
       "25%     7.300000e+02         9.170000e+02  3.730000e+02       1.110000e+03   \n",
       "50%     1.690000e+03         1.325000e+03  6.470000e+02       1.520000e+03   \n",
       "75%     3.230000e+03         1.730000e+03  1.062000e+03       1.918000e+03   \n",
       "max     9.855000e+03         2.359000e+03  4.983000e+03       2.400000e+03   \n",
       "\n",
       "       ARRIVAL_DELAY      DIVERTED     CANCELLED  \n",
       "count   5.714008e+06  5.819079e+06  5.819079e+06  \n",
       "mean    4.407057e+00  2.609863e-03  1.544643e-02  \n",
       "std     3.927130e+01  5.102012e-02  1.233201e-01  \n",
       "min    -8.700000e+01  0.000000e+00  0.000000e+00  \n",
       "25%    -1.300000e+01  0.000000e+00  0.000000e+00  \n",
       "50%    -5.000000e+00  0.000000e+00  0.000000e+00  \n",
       "75%     8.000000e+00  0.000000e+00  0.000000e+00  \n",
       "max     1.971000e+03  1.000000e+00  1.000000e+00  "
      ]
     },
     "execution_count": 19,
     "metadata": {},
     "output_type": "execute_result"
    }
   ],
   "source": [
    "flights_data1.describe()"
   ]
  },
  {
   "cell_type": "markdown",
   "id": "08e0dca2",
   "metadata": {},
   "source": [
    "##### Inserting sequential column named Flight to uniquely identify them"
   ]
  },
  {
   "cell_type": "code",
   "execution_count": 20,
   "id": "61669eda",
   "metadata": {},
   "outputs": [],
   "source": [
    "flights_data1.insert(0, 'FLIGHT', range(1, 1 + len(flights_data1)))"
   ]
  },
  {
   "cell_type": "markdown",
   "id": "dc5fd653",
   "metadata": {},
   "source": [
    "##### Replacing cancellation reason column with proper description inplace of cancellation code"
   ]
  },
  {
   "cell_type": "code",
   "execution_count": 21,
   "id": "42971f65",
   "metadata": {},
   "outputs": [],
   "source": [
    "flights_data1.loc[flights_data1['CANCELLATION_REASON'] == 'A', 'CANCELLATION_REASON'] = \"Airline/Carrier\"\n",
    "flights_data1.loc[flights_data1['CANCELLATION_REASON'] == 'B', 'CANCELLATION_REASON'] = \"Weather\"\n",
    "flights_data1.loc[flights_data1['CANCELLATION_REASON'] == 'C', 'CANCELLATION_REASON'] = \"National Air System\"\n",
    "flights_data1.loc[flights_data1['CANCELLATION_REASON'] == 'D', 'CANCELLATION_REASON'] = \"Security\""
   ]
  },
  {
   "cell_type": "markdown",
   "id": "98bcbeaf",
   "metadata": {},
   "source": [
    "##### Creating new columns for categorising flights as per arrival status"
   ]
  },
  {
   "cell_type": "code",
   "execution_count": 22,
   "id": "d27277c4",
   "metadata": {},
   "outputs": [],
   "source": [
    "flights_data1[\"ON_TIME\"]=flights_data1[\"ARRIVAL_DELAY\"].apply(lambda row:'TRUE' if row==0 else 'FALSE')\n",
    "flights_data1[\"ARRIVED_EARLY\"]=flights_data1[\"ARRIVAL_DELAY\"].apply(lambda row:'TRUE' if row<0 else 'FALSE')\n",
    "flights_data1[\"ARRIVED_LATE\"]=flights_data1[\"ARRIVAL_DELAY\"].apply(lambda row:'TRUE' if row>0 else 'FALSE')"
   ]
  },
  {
   "cell_type": "markdown",
   "id": "3d76581e",
   "metadata": {},
   "source": [
    "##### Creating new columns for categorising delayed flights"
   ]
  },
  {
   "cell_type": "code",
   "execution_count": 25,
   "id": "59217f6d",
   "metadata": {},
   "outputs": [],
   "source": [
    "def parse_values(row):\n",
    "    if row == 0:\n",
    "       return 'FALSE'\n",
    "    elif row == 'NaN':\n",
    "       return 'NaN'\n",
    "    else:\n",
    "       return 'TRUE'"
   ]
  },
  {
   "cell_type": "code",
   "execution_count": 28,
   "id": "49336f96",
   "metadata": {},
   "outputs": [],
   "source": [
    "flights_data1[\"IS_AIR_SYSTEM_DELAY\"] = flights_data1[\"AIR_SYSTEM_DELAY\"].apply(parse_values)\n",
    "flights_data1[\"IS_SECURITY_DELAY\"] = flights_data1[\"SECURITY_DELAY\"].apply(parse_values)\n",
    "flights_data1[\"IS_AIRLINE_DELAY\"] = flights_data1[\"AIRLINE_DELAY\"].apply(parse_values)\n",
    "flights_data1[\"IS_LATE_AIRCRAFT_DELAY\"] = flights_data1[\"LATE_AIRCRAFT_DELAY\"].apply(parse_values)\n",
    "flights_data1[\"IS_WEATHER_DELAY\"] = flights_data1[\"WEATHER_DELAY\"].apply(parse_values)"
   ]
  },
  {
   "cell_type": "markdown",
   "id": "43483eaa",
   "metadata": {},
   "source": [
    "##### Extracting the harmonized dataset to excel"
   ]
  },
  {
   "cell_type": "code",
   "execution_count": 29,
   "id": "a5993994",
   "metadata": {},
   "outputs": [
    {
     "data": {
      "text/plain": [
       "FLIGHT                    5819079\n",
       "IATA_CODE                      14\n",
       "FLIGHT_NUMBER                6952\n",
       "TAIL_NUMBER                  4898\n",
       "SCHEDULED_DEPARTURE          1321\n",
       "DEPARTURE_TIME               1441\n",
       "DEPARTURE_DELAY              1218\n",
       "TAXI_OUT                      185\n",
       "WHEELS_OFF                   1441\n",
       "SCHEDULED_TIME                551\n",
       "ELAPSED_TIME                  713\n",
       "AIR_TIME                      676\n",
       "DISTANCE                     1363\n",
       "WHEELS_ON                    1441\n",
       "TAXI_IN                       186\n",
       "SCHEDULED_ARRIVAL            1435\n",
       "ARRIVAL_TIME                 1441\n",
       "ARRIVAL_DELAY                1240\n",
       "DIVERTED                        2\n",
       "CANCELLED                       2\n",
       "CANCELLATION_REASON             5\n",
       "AIR_SYSTEM_DELAY              571\n",
       "SECURITY_DELAY                155\n",
       "AIRLINE_DELAY                1068\n",
       "LATE_AIRCRAFT_DELAY           696\n",
       "WEATHER_DELAY                 633\n",
       "AIRLINE                        14\n",
       "ORIGIN_AIRPORT                322\n",
       "ORIGIN_CITY                   308\n",
       "DESTINATION_AIRPORT           322\n",
       "DESTINATION_CITY              308\n",
       "DATE                          365\n",
       "Quarter                         4\n",
       "ON_TIME                         2\n",
       "ARRIVED_EARLY                   2\n",
       "ARRIVED_LATE                    2\n",
       "IS_AIR_SYSTEM_DELAY             3\n",
       "IS_SECURITY_DELAY               3\n",
       "IS_AIRLINE_DELAY                3\n",
       "IS_LATE_AIRCRAFT_DELAY          3\n",
       "IS_WEATHER_DELAY                3\n",
       "dtype: int64"
      ]
     },
     "execution_count": 29,
     "metadata": {},
     "output_type": "execute_result"
    }
   ],
   "source": [
    "flights_data1.nunique()"
   ]
  },
  {
   "cell_type": "code",
   "execution_count": 30,
   "id": "a06dd936",
   "metadata": {
    "scrolled": true
   },
   "outputs": [],
   "source": [
    "flights_data1.to_csv('wrangled_dataset.csv', index=False)"
   ]
  }
 ],
 "metadata": {
  "kernelspec": {
   "display_name": "Python 3 (ipykernel)",
   "language": "python",
   "name": "python3"
  },
  "language_info": {
   "codemirror_mode": {
    "name": "ipython",
    "version": 3
   },
   "file_extension": ".py",
   "mimetype": "text/x-python",
   "name": "python",
   "nbconvert_exporter": "python",
   "pygments_lexer": "ipython3",
   "version": "3.9.12"
  }
 },
 "nbformat": 4,
 "nbformat_minor": 5
}
